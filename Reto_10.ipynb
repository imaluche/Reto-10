{
 "cells": [
  {
   "cell_type": "code",
   "execution_count": 1,
   "metadata": {},
   "outputs": [
    {
     "name": "stdout",
     "output_type": "stream",
     "text": [
      "nuestra segunda lista fue: [20.0, 40.0, 10.0], tiene 3 elementos.\n",
      "[20.0, 40.0, 10.0]\n",
      "70.0\n",
      "el promedio de la lista [20.0, 40.0, 10.0] es 23.333333333333332\n"
     ]
    }
   ],
   "source": [
    "def adicionlista(l:list,k:bool):\n",
    "    i=1\n",
    "    while i==1:\n",
    "        e= float(input(\"ingresa un numero, si no ingresas un numero entero o decimal el programa no funcionara correctamente:\"))\n",
    "        l.append(e)\n",
    "        i=int(input(\"deseas ingresar otro numero? (1, cualquier otro numero para no)\"))\n",
    "    if k==True: print(\"nuestra primera lista fue: \"+ str(l)+ \", la siguiente lista no debe tener mas de \"+ str(len(l))+\" elementos\")\n",
    "    else: print(\"nuestra segunda lista fue: \"+ str(l)+ \", tiene \"+ str(len(l))+\" elementos.\")\n",
    "p:list=[]\n",
    "if __name__ == \"__main__\":\n",
    "    adicionlista(p,False)\n",
    "    print(p)\n",
    "    D=sum(p)\n",
    "    print(D)\n",
    "    d=len(p)\n",
    "    ac:float= D/d\n",
    "    print(\"el promedio de la lista \"+ str(p)+\" es \"+ str(ac))"
   ]
  },
  {
   "cell_type": "code",
   "execution_count": 2,
   "metadata": {},
   "outputs": [
    {
     "name": "stdout",
     "output_type": "stream",
     "text": [
      "nuestra primera lista fue: [20.0, 30.0, 10.0], la siguiente lista no debe tener mas de 3 elementos\n",
      "nuestra segunda lista fue: [40.0, 15.0, 5.0], tiene 3 elementos.\n",
      "El producto punto de las listas es:  1300.0\n"
     ]
    }
   ],
   "source": [
    "from Reto10_1 import adicionlista\n",
    "if __name__ == \"__main__\":\n",
    "    l1=[]\n",
    "    l2=[]\n",
    "    adicionlista(l1,True)\n",
    "    adicionlista(l2,False)\n",
    "    i=0\n",
    "    c=0\n",
    "    if len(l1)!=len(l2):\n",
    "        print(\"Las listas deben ser del mismo tamaño\")\n",
    "        exit()\n",
    "    while i <= ((len(l1))-1):\n",
    "        \n",
    "        c=c+l1[i]*l2[i]\n",
    "        i+=1\n",
    "    print(\"El producto punto de las listas es: \",c)"
   ]
  },
  {
   "cell_type": "code",
   "execution_count": 3,
   "metadata": {},
   "outputs": [
    {
     "name": "stdout",
     "output_type": "stream",
     "text": [
      "nuestra segunda lista fue: [30.0, 25.0, 5.0, 3.0, 6.0, 78.0, 345.0, 9.0], tiene 8 elementos.\n",
      "[25.0, 5.0, 3.0, 6.0, 78.0, 345.0, 9.0, 30.0]\n"
     ]
    }
   ],
   "source": [
    "from Reto10_1 import adicionlista\n",
    "if __name__ == \"__main__\":\n",
    "    p:list=[]\n",
    "    adicionlista(p,False)\n",
    "    for i in p:\n",
    "        if i/10==i//10:\n",
    "            p.pop(p.index(i))\n",
    "            p.append(i)\n",
    "    print(p)"
   ]
  }
 ],
 "metadata": {
  "kernelspec": {
   "display_name": "Python 3",
   "language": "python",
   "name": "python3"
  },
  "language_info": {
   "codemirror_mode": {
    "name": "ipython",
    "version": 3
   },
   "file_extension": ".py",
   "mimetype": "text/x-python",
   "name": "python",
   "nbconvert_exporter": "python",
   "pygments_lexer": "ipython3",
   "version": "3.12.3"
  }
 },
 "nbformat": 4,
 "nbformat_minor": 2
}
